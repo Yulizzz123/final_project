{
 "cells": [
  {
   "cell_type": "markdown",
   "metadata": {},
   "source": [
    "# A3_Create_and_Test_Model"
   ]
  },
  {
   "cell_type": "markdown",
   "metadata": {},
   "source": [
    "This workbook **creates** and **test** the model. \n",
    "\n",
    "This entails the following steps:\n",
    "\n",
    "| No.     | Step                                          |\n",
    "| :-------| :---------------------------------------------|\n",
    "| A3.1    | Import Libraries                              |\n",
    "| A3.2    | Load Images                                   |\n",
    "| A3.3    | Split Into Train and Test                     |\n",
    "| A3.4    | Create Model                                  |\n",
    "| A3.5    | Test Model                                    |"
   ]
  },
  {
   "cell_type": "markdown",
   "metadata": {},
   "source": [
    "## A3.1 Import Libraries"
   ]
  },
  {
   "cell_type": "code",
   "execution_count": 1,
   "metadata": {},
   "outputs": [],
   "source": [
    "#Import libraries\n",
    "import os\n",
    "import pandas as pd\n",
    "import numpy as np\n",
    "import random\n",
    "import matplotlib.pyplot as plt\n",
    "import seaborn as sns\n",
    "from skimage.color import rgb2lab, deltaE_cie76\n",
    "import cv2\n",
    "from collections import Counter\n",
    "import pickle\n",
    "from sklearn.model_selection import train_test_split\n",
    "from sklearn.metrics import classification_report, confusion_matrix, accuracy_score\n",
    "from sklearn.cluster import KMeans\n",
    "import tensorflow as tf\n",
    "from tensorflow.python.keras.callbacks import ModelCheckpoint\n",
    "from tensorflow.python.keras import layers, models, Model, optimizers\n",
    "import h5py"
   ]
  },
  {
   "cell_type": "markdown",
   "metadata": {},
   "source": [
    "## A3.2 Load Images"
   ]
  },
  {
   "cell_type": "code",
   "execution_count": null,
   "metadata": {},
   "outputs": [],
   "source": [
    "#Load images\n",
    "data_dir = '../deepfashionextract3/img/'\n",
    "categories = ['top', 'skirt', 'dress']\n",
    "\n",
    "data = []\n",
    "\n",
    "def create_data():\n",
    "    \n",
    "    for category in categories:\n",
    "        path = os.path.join(data_dir, category)\n",
    "        label = categories.index(category)\n",
    "\n",
    "        for filename in os.listdir(path):\n",
    "            #Load image\n",
    "            img_data = os.path.join(path, filename)\n",
    "            image = cv2.imread(img_data)\n",
    "            \n",
    "            try:\n",
    "                image = cv2.cvtColor(image,cv2.COLOR_BGR2RGB)\n",
    "                #Minimize to approx. one third\n",
    "                image = cv2.resize(image, (96,96))\n",
    "                image = np.array(image, dtype=np.float32)\n",
    "                \n",
    "                data.append([image, label])\n",
    "            \n",
    "            except Exception as e:\n",
    "                pass\n",
    "            \n",
    "    print(len(data))\n",
    "    \n",
    "    #wb for write and binary\n",
    "    pick = open('a_data.pickle', 'wb')\n",
    "    pickle.dump(data, pick)\n",
    "    pick.close()"
   ]
  },
  {
   "cell_type": "code",
   "execution_count": null,
   "metadata": {},
   "outputs": [],
   "source": [
    "create_data()"
   ]
  },
  {
   "cell_type": "code",
   "execution_count": null,
   "metadata": {},
   "outputs": [],
   "source": [
    "def load_data():\n",
    "    #rb for read and binary\n",
    "    pick = open('a_data.pickle', 'rb')\n",
    "    data = pickle.load(pick)\n",
    "    pick.close()\n",
    "    \n",
    "    #Shuffle the data\n",
    "    np.random.shuffle(data)\n",
    "    \n",
    "    feature = []\n",
    "    labels = []\n",
    "    \n",
    "    for img, label in data:\n",
    "        feature.append(img)\n",
    "        labels.append(label)\n",
    "        \n",
    "    feature = np.array(feature, dtype=np.float32 )\n",
    "    labels = np.array(labels)\n",
    "        \n",
    "    ##Normalize the pixels between 0 and 1\n",
    "    feature = feature/255.0\n",
    "    \n",
    "    return [feature, labels]"
   ]
  },
  {
   "cell_type": "code",
   "execution_count": null,
   "metadata": {},
   "outputs": [],
   "source": [
    "load_data()"
   ]
  },
  {
   "cell_type": "markdown",
   "metadata": {},
   "source": [
    "## A3.3 Split Into Train and Test"
   ]
  },
  {
   "cell_type": "markdown",
   "metadata": {},
   "source": [
    "Since we do not have a large dataset only **10%** is saved for **test** so that more data can be used for training. "
   ]
  },
  {
   "cell_type": "code",
   "execution_count": null,
   "metadata": {},
   "outputs": [],
   "source": [
    "#Unpack feature and labels\n",
    "(feature, labels) = load_data()"
   ]
  },
  {
   "cell_type": "code",
   "execution_count": null,
   "metadata": {},
   "outputs": [],
   "source": [
    "#Divide into train and test\n",
    "X_train, X_test, y_train, y_test = train_test_split(feature, labels, test_size=0.1)"
   ]
  },
  {
   "cell_type": "code",
   "execution_count": null,
   "metadata": {},
   "outputs": [],
   "source": [
    "def plot_bar(y, loc='left', relative=True):\n",
    "    width = 0.35\n",
    "    if loc == 'left':\n",
    "        n = -0.5\n",
    "    elif loc == 'right':\n",
    "        n = 0.5\n",
    " \n",
    "    # calculate counts per type and sort, to ensure their order\n",
    "    unique, counts = np.unique(y, return_counts=True)\n",
    "    sorted_index = np.argsort(unique)\n",
    "    unique = unique[sorted_index]\n",
    " \n",
    "    if relative:\n",
    "        # plot as a percentage\n",
    "        counts = 100*counts[sorted_index]/len(y)\n",
    "        ylabel_text = '% Count'\n",
    "    else:\n",
    "        # plot counts\n",
    "        counts = counts[sorted_index]\n",
    "        ylabel_text = 'count'\n",
    " \n",
    "    xtemp = np.arange(len(unique))\n",
    " \n",
    "    plt.style.use('fivethirtyeight')\n",
    "    plt.bar(xtemp + n*width, counts, align='center', alpha=.7, width=width)\n",
    "    labels = ['Top', 'Skirt', 'Dress']\n",
    "    plt.xticks(xtemp, labels)\n",
    "    plt.ylabel(ylabel_text)\n",
    "    plt.suptitle('Images per Category')\n",
    "    \n",
    "plot_bar(y_train, loc='left')\n",
    "plot_bar(y_test, loc='right')\n",
    "plt.legend([\n",
    "    'Train: ({0} images)'.format(len(y_train)),\n",
    "    'Test: ({0} images)'.format(len(y_test)), \n",
    "], loc=10);"
   ]
  },
  {
   "cell_type": "markdown",
   "metadata": {},
   "source": [
    "## A3.4 Create Model"
   ]
  },
  {
   "cell_type": "markdown",
   "metadata": {},
   "source": [
    "The model is created with **6 convolutional and pool layers and pools** to which the input sequentially passes.\n",
    "\n",
    "Adjusting the hyperparameters, the following has proven to achieve an optimal result with the data at hand:\n",
    "\n",
    "| No. | Findings                                                                         |\n",
    "|:----|:---------------------------------------------------------------------------------|\n",
    "| 1.  | 6 convolutional and pool layers rather than smaller and higher numbers of layers |\n",
    "| 2.  | 96 filters rather than a mix of 32, 64 and 96 filters                            |\n",
    "| 3.  | 512 neurons rather than 128 neurons                                              |\n",
    "| 4.  | Adding a dropout layer                                                           |\n",
    "| 5.  | A dropout layer of 70% rather than 50% or 90%                                    |\n",
    "| 6.  | 15 epochs rather than 10, 12 or 20                                               |\n",
    "\n",
    "At **12 epochs** an approx. **90% training accuracy** is already achieved. 15 epochs may only lead to an approx. **2%.** increase of test accuracy. At 20 epochs the accuracy decreases again which may be due to **overfitting**.\n",
    "It is also important to note that running the same model under same conditions may also lead to a  result with an approx. **2%** variation."
   ]
  },
  {
   "cell_type": "code",
   "execution_count": null,
   "metadata": {},
   "outputs": [],
   "source": [
    "#Display categories for labels\n",
    "categories = ['top', 'skirt', 'dress']"
   ]
  },
  {
   "cell_type": "code",
   "execution_count": null,
   "metadata": {},
   "outputs": [],
   "source": [
    "#Input is pixel and 3 indicating RGB\n",
    "input_layer = tf.keras.layers.Input([96, 96, 3])"
   ]
  },
  {
   "cell_type": "code",
   "execution_count": null,
   "metadata": {},
   "outputs": [],
   "source": [
    "#From input_layer to conv_1\n",
    "#Same padding means the size of the output feature maps are the same as the input feature maps.\n",
    "conv_1 = tf.keras.layers.Conv2D(filters=96, kernel_size=(5,5), padding='same', activation='relu') (input_layer)"
   ]
  },
  {
   "cell_type": "code",
   "execution_count": null,
   "metadata": {},
   "outputs": [],
   "source": [
    "#From convolutional layer 1 to pool layer 1\n",
    "pool_1 = tf.keras.layers.MaxPooling2D(pool_size=(2,2))(conv_1)"
   ]
  },
  {
   "cell_type": "code",
   "execution_count": null,
   "metadata": {},
   "outputs": [],
   "source": [
    "#From pool layer 1 to convolutional layer 2\n",
    "conv_2 = tf.keras.layers.Conv2D(filters=96, kernel_size=(3,3), padding='same', activation='relu') (pool_1)"
   ]
  },
  {
   "cell_type": "code",
   "execution_count": null,
   "metadata": {},
   "outputs": [],
   "source": [
    "#Pool with strides\n",
    "pool_2 = tf.keras.layers.MaxPooling2D(pool_size=(2,2), strides=(2,2))(conv_2)"
   ]
  },
  {
   "cell_type": "code",
   "execution_count": null,
   "metadata": {},
   "outputs": [],
   "source": [
    "#Increase of filters\n",
    "conv_3 = tf.keras.layers.Conv2D(filters=96, kernel_size=(3,3), padding='same', activation='relu') (pool_2)"
   ]
  },
  {
   "cell_type": "code",
   "execution_count": null,
   "metadata": {},
   "outputs": [],
   "source": [
    "#Same like pool layer 2\n",
    "pool_3 = tf.keras.layers.MaxPooling2D(pool_size=(2,2), strides=(2,2))(conv_3)"
   ]
  },
  {
   "cell_type": "code",
   "execution_count": null,
   "metadata": {},
   "outputs": [],
   "source": [
    "#Flatten\n",
    "flt_1 = tf.keras.layers.Flatten()(pool_3)"
   ]
  },
  {
   "cell_type": "code",
   "execution_count": null,
   "metadata": {},
   "outputs": [],
   "source": [
    "#Dense layer with 512 neurons\n",
    "dn_1 = tf.keras.layers.Dense(512, activation='relu')(flt_1)"
   ]
  },
  {
   "cell_type": "code",
   "execution_count": null,
   "metadata": {},
   "outputs": [],
   "source": [
    "dropout = tf.keras.layers.Dropout(0.7)(dn_1)"
   ]
  },
  {
   "cell_type": "code",
   "execution_count": null,
   "metadata": {},
   "outputs": [],
   "source": [
    "#Since 6 layers have been created, argument takes 6\n",
    "out = tf.keras.layers.Dense(6, activation='softmax')(dropout)"
   ]
  },
  {
   "cell_type": "code",
   "execution_count": null,
   "metadata": {},
   "outputs": [],
   "source": [
    "#Create model - 1 \n",
    "model = tf.keras.Model(input_layer, out)"
   ]
  },
  {
   "cell_type": "code",
   "execution_count": null,
   "metadata": {},
   "outputs": [],
   "source": [
    "#Create model - 2\n",
    "model.compile(optimizer='adam', loss='sparse_categorical_crossentropy', metrics=['accuracy'])"
   ]
  },
  {
   "cell_type": "code",
   "execution_count": null,
   "metadata": {},
   "outputs": [],
   "source": [
    "#Fit model \n",
    "history = model.fit(X_train, y_train, batch_size=20, epochs=15)\n",
    "history"
   ]
  },
  {
   "cell_type": "markdown",
   "metadata": {},
   "source": [
    "The following shows a summary of the **hyperparameters**."
   ]
  },
  {
   "cell_type": "code",
   "execution_count": null,
   "metadata": {},
   "outputs": [],
   "source": [
    "model.summary()"
   ]
  },
  {
   "cell_type": "code",
   "execution_count": null,
   "metadata": {},
   "outputs": [],
   "source": [
    "#Save model\n",
    "from keras.models import load_model\n",
    "model.save('A_recognition.h5')"
   ]
  },
  {
   "cell_type": "markdown",
   "metadata": {},
   "source": [
    "## A3.5 Test Model"
   ]
  },
  {
   "cell_type": "markdown",
   "metadata": {},
   "source": [
    "The test accuracy is approx. **72%**."
   ]
  },
  {
   "cell_type": "code",
   "execution_count": null,
   "metadata": {},
   "outputs": [],
   "source": [
    "history2 = model.evaluate(X_test, y_test, verbose=1)\n",
    "history2[1]"
   ]
  },
  {
   "cell_type": "markdown",
   "metadata": {},
   "source": [
    "In the sample below, the predictions of **seven of nine** images are correct. As a side note, the images have a low resolution because after drastically resizing them, they cannot be restored to their original. "
   ]
  },
  {
   "cell_type": "code",
   "execution_count": null,
   "metadata": {},
   "outputs": [],
   "source": [
    "#Plot predictions\n",
    "plt.figure(figsize=(6, 6))\n",
    "plt.style.use('fivethirtyeight')\n",
    "for i in range(9):\n",
    "    plt.subplot(3,3,i+1)\n",
    "    image = cv2.resize(X_test[i], (224, 224))\n",
    "    plt.imshow(image)\n",
    "    #np.argmax returns the position of the largest value\n",
    "    plt.xlabel('Actual:'+categories[y_test[i]]+'\\n'+'Predicted:'+categories[np.argmax(y_pred[i])])\n",
    "    plt.xticks([])\n",
    "    plt.subplots_adjust(left=None, bottom=None, right=1.2, top=1.4, wspace=None, hspace=None)\n",
    "\n",
    "plt.show()"
   ]
  },
  {
   "cell_type": "markdown",
   "metadata": {},
   "source": [
    "Other than the sample above might suggest, the **confusion matrix** shows that the model does not favor tops. Moreover, the majority of predictions is correct (see lighter blue diagonal)."
   ]
  },
  {
   "cell_type": "code",
   "execution_count": null,
   "metadata": {},
   "outputs": [],
   "source": [
    "#Confusion matrix\n",
    "Y_pred = model.predict(X_test)\n",
    "y_pred = np.argmax(Y_pred, axis=1)\n",
    "y_pred\n",
    "cm = confusion_matrix(y_test, y_pred)\n",
    "cm"
   ]
  },
  {
   "cell_type": "code",
   "execution_count": null,
   "metadata": {},
   "outputs": [],
   "source": [
    "#Plot confusion matrix\n",
    "plt.figure(figsize=(6,6))\n",
    "sns.heatmap(cm, annot = True, linewidths=0.5, square=True, cmap='Blues_r')\n",
    "plt.ylabel('Actual')\n",
    "plt.xticks([0, 1, 2], ['Top', 'Skirt', 'Dress'])\n",
    "plt.yticks([0, 1, 2], ['Top', 'Skirt', 'Dress'])\n",
    "plt.xlabel('Predicted')\n",
    "title='Accuracy: {0}'.format(history2[1])\n",
    "plt.title(title, size=15)\n",
    "plt.show()"
   ]
  },
  {
   "cell_type": "markdown",
   "metadata": {},
   "source": [
    "A **new test set** is loaded to simulate a customer searching for a similar product, or a cross sale. "
   ]
  },
  {
   "cell_type": "code",
   "execution_count": 2,
   "metadata": {},
   "outputs": [
    {
     "data": {
      "text/html": [
       "<div>\n",
       "<style scoped>\n",
       "    .dataframe tbody tr th:only-of-type {\n",
       "        vertical-align: middle;\n",
       "    }\n",
       "\n",
       "    .dataframe tbody tr th {\n",
       "        vertical-align: top;\n",
       "    }\n",
       "\n",
       "    .dataframe thead th {\n",
       "        text-align: right;\n",
       "    }\n",
       "</style>\n",
       "<table border=\"1\" class=\"dataframe\">\n",
       "  <thead>\n",
       "    <tr style=\"text-align: right;\">\n",
       "      <th></th>\n",
       "      <th>id</th>\n",
       "      <th>cat</th>\n",
       "    </tr>\n",
       "  </thead>\n",
       "  <tbody>\n",
       "    <tr>\n",
       "      <th>0</th>\n",
       "      <td>59263</td>\n",
       "      <td>Dress</td>\n",
       "    </tr>\n",
       "    <tr>\n",
       "      <th>1</th>\n",
       "      <td>26960</td>\n",
       "      <td>Dress</td>\n",
       "    </tr>\n",
       "    <tr>\n",
       "      <th>2</th>\n",
       "      <td>48123</td>\n",
       "      <td>Dress</td>\n",
       "    </tr>\n",
       "    <tr>\n",
       "      <th>3</th>\n",
       "      <td>47957</td>\n",
       "      <td>Dress</td>\n",
       "    </tr>\n",
       "    <tr>\n",
       "      <th>4</th>\n",
       "      <td>51832</td>\n",
       "      <td>Dress</td>\n",
       "    </tr>\n",
       "  </tbody>\n",
       "</table>\n",
       "</div>"
      ],
      "text/plain": [
       "      id    cat\n",
       "0  59263  Dress\n",
       "1  26960  Dress\n",
       "2  48123  Dress\n",
       "3  47957  Dress\n",
       "4  51832  Dress"
      ]
     },
     "execution_count": 2,
     "metadata": {},
     "output_type": "execute_result"
    }
   ],
   "source": [
    "#Load new test set\n",
    "style_data = pd.read_csv('style_data.csv', index_col=0).reset_index(drop=True)\n",
    "style_data.head()"
   ]
  },
  {
   "cell_type": "markdown",
   "metadata": {},
   "source": [
    "**18,632** images of tops, skirts and dresses are available."
   ]
  },
  {
   "cell_type": "code",
   "execution_count": 3,
   "metadata": {},
   "outputs": [
    {
     "data": {
      "text/plain": [
       "18632"
      ]
     },
     "execution_count": 3,
     "metadata": {},
     "output_type": "execute_result"
    }
   ],
   "source": [
    "len(style_data['id'])"
   ]
  },
  {
   "cell_type": "code",
   "execution_count": 145,
   "metadata": {},
   "outputs": [
    {
     "data": {
      "text/plain": [
       "2769"
      ]
     },
     "execution_count": 145,
     "metadata": {},
     "output_type": "execute_result"
    }
   ],
   "source": [
    "#Based on minimum and maximum a random number is defined\n",
    "item_index = random.randint(0, 18632)\n",
    "item_index"
   ]
  },
  {
   "cell_type": "code",
   "execution_count": 146,
   "metadata": {},
   "outputs": [
    {
     "data": {
      "text/plain": [
       "50205"
      ]
     },
     "execution_count": 146,
     "metadata": {},
     "output_type": "execute_result"
    }
   ],
   "source": [
    "img_no = style_data.iloc[item_index, 0]\n",
    "img_no"
   ]
  },
  {
   "cell_type": "code",
   "execution_count": 147,
   "metadata": {},
   "outputs": [
    {
     "data": {
      "image/png": "[encoded data removed]",
      "text/plain": [
       "<Figure size 432x288 with 1 Axes>"
      ]
     },
     "metadata": {
      "needs_background": "light"
     },
     "output_type": "display_data"
    }
   ],
   "source": [
    "%matplotlib inline \n",
    "root_fashion = '../fashion_dataset/images/'\n",
    "\n",
    "image_name = str(img_no) + '.jpg'\n",
    "image_name2 = os.path.join(root_fashion, image_name)\n",
    "img = cv2.imread(image_name2,3) \n",
    "img = cv2.cvtColor(img, cv2.COLOR_BGR2RGB)\n",
    "img = cv2.resize(img, (96,96))\n",
    "img = np.array(img, dtype=np.float32)\n",
    "img = img/255\n",
    "\n",
    "#prediction = model.predict(img)\n",
    "\n",
    "plt.imshow(img);"
   ]
  },
  {
   "cell_type": "code",
   "execution_count": 142,
   "metadata": {},
   "outputs": [],
   "source": [
    "def RGB2HEX(color):\n",
    "    return \"#{:02x}{:02x}{:02x}\".format(int(color[0]), int(color[1]), int(color[2]))"
   ]
  },
  {
   "cell_type": "code",
   "execution_count": 143,
   "metadata": {},
   "outputs": [],
   "source": [
    "def get_colors(image, number_of_colors):\n",
    "    \n",
    "    modified_image = cv2.resize(image, (600, 400), interpolation = cv2.INTER_AREA)\n",
    "    modified_image = modified_image.reshape(modified_image.shape[0]*modified_image.shape[1], 3)\n",
    "    \n",
    "    clf = KMeans(n_clusters = number_of_colors)\n",
    "    labels = clf.fit_predict(modified_image)\n",
    "    \n",
    "    counts = Counter(labels)\n",
    "    # sort to ensure correct color percentage\n",
    "    counts = dict(sorted(counts.items()))\n",
    "    \n",
    "    center_colors = clf.cluster_centers_\n",
    "    # We get ordered colors by iterating through the keys\n",
    "    ordered_colors = [center_colors[i] for i in counts.keys()]\n",
    "    hex_colors = [RGB2HEX(ordered_colors[i]) for i in counts.keys()]\n",
    "    rgb_colors = [ordered_colors[i] for i in counts.keys()]\n",
    "\n",
    "    return rgb_colors"
   ]
  },
  {
   "cell_type": "code",
   "execution_count": 144,
   "metadata": {},
   "outputs": [
    {
     "data": {
      "text/plain": [
       "[array([0.9949249 , 0.99429333, 0.9948251 ], dtype=float32),\n",
       " array([0.4091072 , 0.32429844, 0.4218722 ], dtype=float32)]"
      ]
     },
     "execution_count": 144,
     "metadata": {},
     "output_type": "execute_result"
    }
   ],
   "source": [
    "rgb = get_colors(img, 2)\n",
    "rgb"
   ]
  },
  {
   "cell_type": "code",
   "execution_count": 97,
   "metadata": {},
   "outputs": [
    {
     "ename": "NameError",
     "evalue": "name 'prediction' is not defined",
     "output_type": "error",
     "traceback": [
      "\u001b[1;31m---------------------------------------------------------------------------\u001b[0m",
      "\u001b[1;31mNameError\u001b[0m                                 Traceback (most recent call last)",
      "\u001b[1;32m<ipython-input-97-a320483efbe2>\u001b[0m in \u001b[0;36m<module>\u001b[1;34m\u001b[0m\n\u001b[0;32m      5\u001b[0m \u001b[1;33m\u001b[0m\u001b[0m\n\u001b[0;32m      6\u001b[0m \u001b[1;32mfor\u001b[0m \u001b[0mi\u001b[0m \u001b[1;32min\u001b[0m \u001b[0mcategories\u001b[0m\u001b[1;33m:\u001b[0m\u001b[1;33m\u001b[0m\u001b[1;33m\u001b[0m\u001b[0m\n\u001b[1;32m----> 7\u001b[1;33m     \u001b[1;32mif\u001b[0m \u001b[0mprediction\u001b[0m \u001b[1;33m==\u001b[0m \u001b[1;36m0\u001b[0m\u001b[1;33m:\u001b[0m\u001b[1;33m\u001b[0m\u001b[1;33m\u001b[0m\u001b[0m\n\u001b[0m\u001b[0;32m      8\u001b[0m         \u001b[0mcv2\u001b[0m\u001b[1;33m.\u001b[0m\u001b[0mimread\u001b[0m\u001b[1;33m(\u001b[0m\u001b[0mpath\u001b[0m\u001b[1;33m,\u001b[0m \u001b[1;36m3\u001b[0m\u001b[1;33m)\u001b[0m\u001b[1;33m\u001b[0m\u001b[1;33m\u001b[0m\u001b[0m\n\u001b[0;32m      9\u001b[0m         \u001b[0mplt\u001b[0m\u001b[1;33m.\u001b[0m\u001b[0mimshow\u001b[0m\u001b[1;33m(\u001b[0m\u001b[1;33m)\u001b[0m\u001b[1;33m\u001b[0m\u001b[1;33m\u001b[0m\u001b[0m\n",
      "\u001b[1;31mNameError\u001b[0m: name 'prediction' is not defined"
     ]
    }
   ],
   "source": [
    "categories = ['top', 'skirt', 'dress']\n",
    "path_top = '../deepfashionextract3/img/top/'\n",
    "path_skirt = '../deepfashionextract3/img/skirt/'\n",
    "path_dress = '../deepfashionextract3/img/dress/'\n",
    "\n",
    "for i in categories:\n",
    "    if prediction == 0:\n",
    "        cv2.imread(path, 3)\n",
    "        plt.imshow()"
   ]
  },
  {
   "cell_type": "code",
   "execution_count": 12,
   "metadata": {},
   "outputs": [
    {
     "data": {
      "text/html": [
       "<div>\n",
       "<style scoped>\n",
       "    .dataframe tbody tr th:only-of-type {\n",
       "        vertical-align: middle;\n",
       "    }\n",
       "\n",
       "    .dataframe tbody tr th {\n",
       "        vertical-align: top;\n",
       "    }\n",
       "\n",
       "    .dataframe thead th {\n",
       "        text-align: right;\n",
       "    }\n",
       "</style>\n",
       "<table border=\"1\" class=\"dataframe\">\n",
       "  <thead>\n",
       "    <tr style=\"text-align: right;\">\n",
       "      <th></th>\n",
       "      <th>category</th>\n",
       "      <th>selected_style</th>\n",
       "      <th>image_name</th>\n",
       "    </tr>\n",
       "  </thead>\n",
       "  <tbody>\n",
       "    <tr>\n",
       "      <th>0</th>\n",
       "      <td>top</td>\n",
       "      <td>Beaded</td>\n",
       "      <td>../deepfashionextract3/img/top/Beaded_Chiffon_...</td>\n",
       "    </tr>\n",
       "    <tr>\n",
       "      <th>1</th>\n",
       "      <td>top</td>\n",
       "      <td>Beaded</td>\n",
       "      <td>../deepfashionextract3/img/top/Beaded_Chiffon_...</td>\n",
       "    </tr>\n",
       "    <tr>\n",
       "      <th>2</th>\n",
       "      <td>top</td>\n",
       "      <td>Beaded</td>\n",
       "      <td>../deepfashionextract3/img/top/Beaded_Chiffon_...</td>\n",
       "    </tr>\n",
       "    <tr>\n",
       "      <th>3</th>\n",
       "      <td>top</td>\n",
       "      <td>Beaded</td>\n",
       "      <td>../deepfashionextract3/img/top/Beaded_Chiffon_...</td>\n",
       "    </tr>\n",
       "    <tr>\n",
       "      <th>4</th>\n",
       "      <td>top</td>\n",
       "      <td>Beaded</td>\n",
       "      <td>../deepfashionextract3/img/top/Beaded_Chiffon_...</td>\n",
       "    </tr>\n",
       "  </tbody>\n",
       "</table>\n",
       "</div>"
      ],
      "text/plain": [
       "  category selected_style                                         image_name\n",
       "0      top         Beaded  ../deepfashionextract3/img/top/Beaded_Chiffon_...\n",
       "1      top         Beaded  ../deepfashionextract3/img/top/Beaded_Chiffon_...\n",
       "2      top         Beaded  ../deepfashionextract3/img/top/Beaded_Chiffon_...\n",
       "3      top         Beaded  ../deepfashionextract3/img/top/Beaded_Chiffon_...\n",
       "4      top         Beaded  ../deepfashionextract3/img/top/Beaded_Chiffon_..."
      ]
     },
     "execution_count": 12,
     "metadata": {},
     "output_type": "execute_result"
    }
   ],
   "source": [
    "#Load data\n",
    "combined = pd.read_csv('../deepfashionextract3/combined.csv', index_col=0).reset_index(drop=True)\n",
    "combined.head()"
   ]
  },
  {
   "cell_type": "code",
   "execution_count": 13,
   "metadata": {},
   "outputs": [
    {
     "data": {
      "text/plain": [
       "12000"
      ]
     },
     "execution_count": 13,
     "metadata": {},
     "output_type": "execute_result"
    }
   ],
   "source": [
    "#Find max. index no.\n",
    "len(combined)"
   ]
  },
  {
   "cell_type": "code",
   "execution_count": 72,
   "metadata": {},
   "outputs": [
    {
     "name": "stdout",
     "output_type": "stream",
     "text": [
      "2131\n",
      "2121\n",
      "2702\n"
     ]
    }
   ],
   "source": [
    "#Random item\n",
    "cross_selling1 = random.randint(0, 12000)\n",
    "cross_selling2 = random.randint(0, 12000)\n",
    "cross_selling3 = random.randint(0, 12000)\n",
    "print(cross_selling1)\n",
    "print(cross_selling2)\n",
    "print(cross_selling3)"
   ]
  },
  {
   "cell_type": "code",
   "execution_count": 73,
   "metadata": {},
   "outputs": [],
   "source": [
    "#Based on minimum and maximum a random number is defined\n",
    "def offer(cross):\n",
    "    output = combined.iloc[cross, 2]\n",
    "    first_part = output[:33]\n",
    "    last_part = output[-16:]\n",
    "    if first_part[-5:] == 'dress/':\n",
    "        middle = output.replace('../deepfashionextract3/img/dress/','').replace(output[-16:],'')\n",
    "        ident = '../deepfashionextract3/img/dress/' + middle[:-1] + '_' + last_part\n",
    "    elif first_part[-5:] == 'skirt/':\n",
    "        middle = output.replace('../deepfashionextract3/img/skirt/','').replace(output[-16:],'')\n",
    "        ident = '../deepfashionextract3/img/skirt/' + middle[:-1] + '_' + last_part\n",
    "    elif first_part[-6:-2] == 'top/':\n",
    "        middle = output.replace('../deepfashionextract3/img/top/','').replace(output[-16:],'')\n",
    "        ident = '../deepfashionextract3/img/top/' + middle[:-1] + '_' + last_part\n",
    "    return ident"
   ]
  },
  {
   "cell_type": "code",
   "execution_count": 74,
   "metadata": {},
   "outputs": [
    {
     "name": "stdout",
     "output_type": "stream",
     "text": [
      "../deepfashionextract3/img/top/Abstract_Paisley_Boxy_Top_img_00000037.jpg\n"
     ]
    }
   ],
   "source": [
    "#Print image paths\n",
    "print(offer(cross_selling1))\n",
    "print(offer(cross_selling2))\n",
    "print(offer(cross_selling3))"
   ]
  },
  {
   "cell_type": "code",
   "execution_count": 87,
   "metadata": {},
   "outputs": [
    {
     "data": {
      "image/png": "[encoded data removed]",
      "text/plain": [
       "<Figure size 720x432 with 3 Axes>"
      ]
     },
     "metadata": {
      "needs_background": "light"
     },
     "output_type": "display_data"
    }
   ],
   "source": [
    "#Show piccture\n",
    "fig = plt.figure(figsize=(10,6))\n",
    "ax1 = fig.add_subplot(1,3,1)\n",
    "ident1 = cv2.imread(offer(cross_selling1), 3)\n",
    "ident1 = cv2.cvtColor(ident1, cv2.COLOR_BGR2RGB)\n",
    "ident1 = cv2.resize(ident1, (224,224))\n",
    "ident1 = np.array(ident1, dtype=np.float32)/255\n",
    "ax1.imshow(ident1);\n",
    "\n",
    "ax2 = fig.add_subplot(1,3,2)\n",
    "ident2 = cv2.imread(offer(cross_selling2), 3)\n",
    "ident2 = cv2.cvtColor(ident2, cv2.COLOR_BGR2RGB)\n",
    "ident2 = cv2.resize(ident2, (224,224))\n",
    "ident2 = np.array(ident2, dtype=np.float32)/255\n",
    "ax2.imshow(ident2);\n",
    "\n",
    "ax3 = fig.add_subplot(1,3,3)\n",
    "ident3 = cv2.imread(offer(cross_selling3), 3)\n",
    "ident3 = cv2.cvtColor(ident3, cv2.COLOR_BGR2RGB)\n",
    "ident3 = cv2.resize(ident3, (224,224))\n",
    "ident3 = np.array(ident3, dtype=np.float32)/255\n",
    "ax3.imshow(ident3);"
   ]
  },
  {
   "cell_type": "code",
   "execution_count": 100,
   "metadata": {},
   "outputs": [
    {
     "data": {
      "text/plain": [
       "[array([0.9056341, 0.8824864, 0.8896816], dtype=float32),\n",
       " array([0.3078322 , 0.24160016, 0.24811277], dtype=float32),\n",
       " array([0.71542  , 0.6242447, 0.6146033], dtype=float32)]"
      ]
     },
     "execution_count": 100,
     "metadata": {},
     "output_type": "execute_result"
    }
   ],
   "source": [
    "#Three most dominant colors\n",
    "get_colors(ident1, 3, False)"
   ]
  },
  {
   "cell_type": "code",
   "execution_count": 101,
   "metadata": {},
   "outputs": [
    {
     "data": {
      "text/plain": [
       "[array([0.909032 , 0.9040282, 0.9044175], dtype=float32),\n",
       " array([0.3175158 , 0.25622487, 0.22858292], dtype=float32),\n",
       " array([0.67892617, 0.62859154, 0.59411407], dtype=float32)]"
      ]
     },
     "execution_count": 101,
     "metadata": {},
     "output_type": "execute_result"
    }
   ],
   "source": [
    "#Three most dominant colors\n",
    "get_colors(ident2, 3, False)"
   ]
  },
  {
   "cell_type": "code",
   "execution_count": 103,
   "metadata": {},
   "outputs": [
    {
     "data": {
      "text/plain": [
       "[array([0.7896715 , 0.73356646, 0.6935267 ], dtype=float32),\n",
       " array([0.94685644, 0.9443524 , 0.9458392 ], dtype=float32),\n",
       " array([0.45818788, 0.31204343, 0.240165  ], dtype=float32)]"
      ]
     },
     "execution_count": 103,
     "metadata": {},
     "output_type": "execute_result"
    }
   ],
   "source": [
    "#Three most dominant colors\n",
    "get_colors(ident3, 3, False)"
   ]
  },
  {
   "cell_type": "code",
   "execution_count": 135,
   "metadata": {},
   "outputs": [],
   "source": [
    "def find_histogram(clt):\n",
    "    \"\"\"\n",
    "    create a histogram with k clusters\n",
    "    :param: clt\n",
    "    :return:hist\n",
    "    \"\"\"\n",
    "    numLabels = np.arange(0, len(np.unique(clt.labels_)) + 1)\n",
    "    (hist, _) = np.histogram(clt.labels_, bins=numLabels)\n",
    "\n",
    "    hist = hist.astype(\"float\")\n",
    "    hist /= hist.sum()\n",
    "\n",
    "    return hist"
   ]
  },
  {
   "cell_type": "code",
   "execution_count": 136,
   "metadata": {},
   "outputs": [],
   "source": [
    "def plot_colors2(hist, centroids):\n",
    "    bar = np.zeros((50, 300, 3), dtype=\"uint8\")\n",
    "    startX = 0\n",
    "\n",
    "    for (percent, color) in zip(hist, centroids):\n",
    "        # plot the relative percentage of each cluster\n",
    "        endX = startX + (percent * 300)\n",
    "        cv2.rectangle(bar, (int(startX), 0), (int(endX), 50),\n",
    "                      color.astype(\"uint8\").tolist(), -1)\n",
    "        startX = endX\n",
    "\n",
    "    # return the bar chart\n",
    "    return bar"
   ]
  },
  {
   "cell_type": "code",
   "execution_count": 137,
   "metadata": {},
   "outputs": [
    {
     "data": {
      "image/png": "[encoded data removed]",
      "text/plain": [
       "<Figure size 432x288 with 1 Axes>"
      ]
     },
     "metadata": {
      "needs_background": "light"
     },
     "output_type": "display_data"
    }
   ],
   "source": [
    "\n",
    "img = cv2.imread('../deepfashionextract3/img/top/Abstract_Paisley_Boxy_Top_img_00000037.jpg')\n",
    "img = cv2.cvtColor(img, cv2.COLOR_BGR2RGB)\n",
    "\n",
    "img = img.reshape((img.shape[0] * img.shape[1],3)) #represent as row*column,channel number\n",
    "clt = KMeans(n_clusters=3) #cluster number\n",
    "clt.fit(img)\n",
    "\n",
    "hist = find_histogram(clt)\n",
    "bar = plot_colors2(hist, clt.cluster_centers_)\n",
    "\n",
    "plt.axis(\"off\")\n",
    "plt.imshow(bar)\n",
    "plt.show()"
   ]
  },
  {
   "cell_type": "code",
   "execution_count": null,
   "metadata": {},
   "outputs": [],
   "source": []
  }
 ],
 "metadata": {
  "hide_input": false,
  "kernelspec": {
   "display_name": "Python 3",
   "language": "python",
   "name": "python3"
  },
  "language_info": {
   "codemirror_mode": {
    "name": "ipython",
    "version": 3
   },
   "file_extension": ".py",
   "mimetype": "text/x-python",
   "name": "python",
   "nbconvert_exporter": "python",
   "pygments_lexer": "ipython3",
   "version": "3.8.3"
  }
 },
 "nbformat": 4,
 "nbformat_minor": 4
}
