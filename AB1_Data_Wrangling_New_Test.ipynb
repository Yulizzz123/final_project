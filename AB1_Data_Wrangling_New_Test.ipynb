{
 "cells": [
  {
   "cell_type": "markdown",
   "metadata": {},
   "source": [
    "# AB1_Data_Wrangling_New_Test_Set"
   ]
  },
  {
   "cell_type": "markdown",
   "metadata": {},
   "source": [
    "This workbook **prepares the data** for test feeding a new image to the model. The following dataset is employed:\n",
    "\n",
    "\"Fashion Product Images\" <Link>(https://www.kaggle.com/paramaggarwal/fashion-product-images-dataset)\n",
    "    \n",
    "This entails the following steps:\n",
    "    \n",
    "| No.    | Step                                      |\n",
    "|:-------|:------------------------------------------|\n",
    "| AB1.1   | Import Libraries                         |\n",
    "| AB1.2   | Data Wrangling                           |"
   ]
  },
  {
   "cell_type": "markdown",
   "metadata": {},
   "source": [
    "## AB 1.1 Import Libraries "
   ]
  },
  {
   "cell_type": "code",
   "execution_count": 1,
   "metadata": {},
   "outputs": [],
   "source": [
    "import pandas as pd\n",
    "import numpy as np\n",
    "import matplotlib.pyplot as plt\n",
    "import warnings \n",
    "\n",
    "warnings.filterwarnings(\"ignore\")"
   ]
  },
  {
   "cell_type": "markdown",
   "metadata": {},
   "source": [
    "## AB 1.2 Data Wrangling "
   ]
  },
  {
   "cell_type": "markdown",
   "metadata": {},
   "source": [
    "In order to select images for the model, **image ids** for tops, skirts, and dresses for women are collected."
   ]
  },
  {
   "cell_type": "code",
   "execution_count": 2,
   "metadata": {},
   "outputs": [
    {
     "data": {
      "text/html": [
       "<div>\n",
       "<style scoped>\n",
       "    .dataframe tbody tr th:only-of-type {\n",
       "        vertical-align: middle;\n",
       "    }\n",
       "\n",
       "    .dataframe tbody tr th {\n",
       "        vertical-align: top;\n",
       "    }\n",
       "\n",
       "    .dataframe thead th {\n",
       "        text-align: right;\n",
       "    }\n",
       "</style>\n",
       "<table border=\"1\" class=\"dataframe\">\n",
       "  <thead>\n",
       "    <tr style=\"text-align: right;\">\n",
       "      <th></th>\n",
       "      <th>id,gender,masterCategory,subCategory,articleType,baseColour,season,year,usage,productDisplayName</th>\n",
       "    </tr>\n",
       "  </thead>\n",
       "  <tbody>\n",
       "    <tr>\n",
       "      <th>0</th>\n",
       "      <td>15970,Men,Apparel,Topwear,Shirts,Navy Blue,Fal...</td>\n",
       "    </tr>\n",
       "    <tr>\n",
       "      <th>1</th>\n",
       "      <td>39386,Men,Apparel,Bottomwear,Jeans,Blue,Summer...</td>\n",
       "    </tr>\n",
       "    <tr>\n",
       "      <th>2</th>\n",
       "      <td>59263,Women,Accessories,Watches,Watches,Silver...</td>\n",
       "    </tr>\n",
       "    <tr>\n",
       "      <th>3</th>\n",
       "      <td>21379,Men,Apparel,Bottomwear,Track Pants,Black...</td>\n",
       "    </tr>\n",
       "    <tr>\n",
       "      <th>4</th>\n",
       "      <td>53759,Men,Apparel,Topwear,Tshirts,Grey,Summer,...</td>\n",
       "    </tr>\n",
       "  </tbody>\n",
       "</table>\n",
       "</div>"
      ],
      "text/plain": [
       "  id,gender,masterCategory,subCategory,articleType,baseColour,season,year,usage,productDisplayName\n",
       "0  15970,Men,Apparel,Topwear,Shirts,Navy Blue,Fal...                                              \n",
       "1  39386,Men,Apparel,Bottomwear,Jeans,Blue,Summer...                                              \n",
       "2  59263,Women,Accessories,Watches,Watches,Silver...                                              \n",
       "3  21379,Men,Apparel,Bottomwear,Track Pants,Black...                                              \n",
       "4  53759,Men,Apparel,Topwear,Tshirts,Grey,Summer,...                                              "
      ]
     },
     "execution_count": 2,
     "metadata": {},
     "output_type": "execute_result"
    }
   ],
   "source": [
    "#Load data\n",
    "style_data = pd.read_csv('../final_project/styles.csv', sep='/t')\n",
    "style_data.head()"
   ]
  },
  {
   "cell_type": "code",
   "execution_count": 3,
   "metadata": {},
   "outputs": [
    {
     "data": {
      "text/html": [
       "<div>\n",
       "<style scoped>\n",
       "    .dataframe tbody tr th:only-of-type {\n",
       "        vertical-align: middle;\n",
       "    }\n",
       "\n",
       "    .dataframe tbody tr th {\n",
       "        vertical-align: top;\n",
       "    }\n",
       "\n",
       "    .dataframe thead th {\n",
       "        text-align: right;\n",
       "    }\n",
       "</style>\n",
       "<table border=\"1\" class=\"dataframe\">\n",
       "  <thead>\n",
       "    <tr style=\"text-align: right;\">\n",
       "      <th></th>\n",
       "      <th>id,gender,masterCategory,subCategory,articleType,baseColour,season,year,usage,productDisplayName</th>\n",
       "    </tr>\n",
       "  </thead>\n",
       "  <tbody>\n",
       "    <tr>\n",
       "      <th>0</th>\n",
       "      <td>[15970, Men, Apparel, Topwear, Shirts, Navy Bl...</td>\n",
       "    </tr>\n",
       "    <tr>\n",
       "      <th>1</th>\n",
       "      <td>[39386, Men, Apparel, Bottomwear, Jeans, Blue,...</td>\n",
       "    </tr>\n",
       "    <tr>\n",
       "      <th>2</th>\n",
       "      <td>[59263, Women, Accessories, Watches, Watches, ...</td>\n",
       "    </tr>\n",
       "    <tr>\n",
       "      <th>3</th>\n",
       "      <td>[21379, Men, Apparel, Bottomwear, Track Pants,...</td>\n",
       "    </tr>\n",
       "    <tr>\n",
       "      <th>4</th>\n",
       "      <td>[53759, Men, Apparel, Topwear, Tshirts, Grey, ...</td>\n",
       "    </tr>\n",
       "  </tbody>\n",
       "</table>\n",
       "</div>"
      ],
      "text/plain": [
       "  id,gender,masterCategory,subCategory,articleType,baseColour,season,year,usage,productDisplayName\n",
       "0  [15970, Men, Apparel, Topwear, Shirts, Navy Bl...                                              \n",
       "1  [39386, Men, Apparel, Bottomwear, Jeans, Blue,...                                              \n",
       "2  [59263, Women, Accessories, Watches, Watches, ...                                              \n",
       "3  [21379, Men, Apparel, Bottomwear, Track Pants,...                                              \n",
       "4  [53759, Men, Apparel, Topwear, Tshirts, Grey, ...                                              "
      ]
     },
     "execution_count": 3,
     "metadata": {},
     "output_type": "execute_result"
    }
   ],
   "source": [
    "#Split data\n",
    "style_data.iloc[:,0] = style_data.iloc[:,0].str.split(',')\n",
    "style_data.head()"
   ]
  },
  {
   "cell_type": "code",
   "execution_count": 4,
   "metadata": {},
   "outputs": [
    {
     "data": {
      "text/html": [
       "<div>\n",
       "<style scoped>\n",
       "    .dataframe tbody tr th:only-of-type {\n",
       "        vertical-align: middle;\n",
       "    }\n",
       "\n",
       "    .dataframe tbody tr th {\n",
       "        vertical-align: top;\n",
       "    }\n",
       "\n",
       "    .dataframe thead th {\n",
       "        text-align: right;\n",
       "    }\n",
       "</style>\n",
       "<table border=\"1\" class=\"dataframe\">\n",
       "  <thead>\n",
       "    <tr style=\"text-align: right;\">\n",
       "      <th></th>\n",
       "      <th>id,gender,masterCategory,subCategory,articleType,baseColour,season,year,usage,productDisplayName</th>\n",
       "      <th>id</th>\n",
       "      <th>gender</th>\n",
       "      <th>type</th>\n",
       "    </tr>\n",
       "  </thead>\n",
       "  <tbody>\n",
       "    <tr>\n",
       "      <th>0</th>\n",
       "      <td>[15970, Men, Apparel, Topwear, Shirts, Navy Bl...</td>\n",
       "      <td>15970</td>\n",
       "      <td>Men</td>\n",
       "      <td>Shirts</td>\n",
       "    </tr>\n",
       "    <tr>\n",
       "      <th>1</th>\n",
       "      <td>[39386, Men, Apparel, Bottomwear, Jeans, Blue,...</td>\n",
       "      <td>39386</td>\n",
       "      <td>Men</td>\n",
       "      <td>Jeans</td>\n",
       "    </tr>\n",
       "    <tr>\n",
       "      <th>2</th>\n",
       "      <td>[59263, Women, Accessories, Watches, Watches, ...</td>\n",
       "      <td>59263</td>\n",
       "      <td>Women</td>\n",
       "      <td>Watches</td>\n",
       "    </tr>\n",
       "    <tr>\n",
       "      <th>3</th>\n",
       "      <td>[21379, Men, Apparel, Bottomwear, Track Pants,...</td>\n",
       "      <td>21379</td>\n",
       "      <td>Men</td>\n",
       "      <td>Track Pants</td>\n",
       "    </tr>\n",
       "    <tr>\n",
       "      <th>4</th>\n",
       "      <td>[53759, Men, Apparel, Topwear, Tshirts, Grey, ...</td>\n",
       "      <td>53759</td>\n",
       "      <td>Men</td>\n",
       "      <td>Tshirts</td>\n",
       "    </tr>\n",
       "  </tbody>\n",
       "</table>\n",
       "</div>"
      ],
      "text/plain": [
       "  id,gender,masterCategory,subCategory,articleType,baseColour,season,year,usage,productDisplayName  \\\n",
       "0  [15970, Men, Apparel, Topwear, Shirts, Navy Bl...                                                 \n",
       "1  [39386, Men, Apparel, Bottomwear, Jeans, Blue,...                                                 \n",
       "2  [59263, Women, Accessories, Watches, Watches, ...                                                 \n",
       "3  [21379, Men, Apparel, Bottomwear, Track Pants,...                                                 \n",
       "4  [53759, Men, Apparel, Topwear, Tshirts, Grey, ...                                                 \n",
       "\n",
       "      id gender         type  \n",
       "0  15970    Men       Shirts  \n",
       "1  39386    Men        Jeans  \n",
       "2  59263  Women      Watches  \n",
       "3  21379    Men  Track Pants  \n",
       "4  53759    Men      Tshirts  "
      ]
     },
     "execution_count": 4,
     "metadata": {},
     "output_type": "execute_result"
    }
   ],
   "source": [
    "#Extract data\n",
    "style_data['id'] = style_data.iloc[:,0].apply(lambda x: x[0])\n",
    "style_data['gender'] = style_data.iloc[:,0].apply(lambda x: x[1])\n",
    "style_data['type'] = style_data.iloc[:,0].apply(lambda x: x[4])\n",
    "style_data.head()"
   ]
  },
  {
   "cell_type": "markdown",
   "metadata": {},
   "source": [
    "Since the target group is **women**, only entries for women are kept."
   ]
  },
  {
   "cell_type": "code",
   "execution_count": 5,
   "metadata": {},
   "outputs": [],
   "source": [
    "#Keep only relevant data\n",
    "style_data = style_data.loc[style_data['gender']=='Women']"
   ]
  },
  {
   "cell_type": "code",
   "execution_count": 6,
   "metadata": {},
   "outputs": [],
   "source": [
    "#Assign a new column\n",
    "style_data.loc[style_data['type']=='Tops', 'cat'] = 'Top'\n",
    "style_data.loc[style_data['type']=='Skirts', 'cat'] = 'Skirt'\n",
    "style_data.loc[style_data['type']=='Dresses', 'cat'] = 'Dress'"
   ]
  },
  {
   "cell_type": "code",
   "execution_count": 7,
   "metadata": {},
   "outputs": [
    {
     "data": {
      "text/html": [
       "<div>\n",
       "<style scoped>\n",
       "    .dataframe tbody tr th:only-of-type {\n",
       "        vertical-align: middle;\n",
       "    }\n",
       "\n",
       "    .dataframe tbody tr th {\n",
       "        vertical-align: top;\n",
       "    }\n",
       "\n",
       "    .dataframe thead th {\n",
       "        text-align: right;\n",
       "    }\n",
       "</style>\n",
       "<table border=\"1\" class=\"dataframe\">\n",
       "  <thead>\n",
       "    <tr style=\"text-align: right;\">\n",
       "      <th></th>\n",
       "      <th>id</th>\n",
       "      <th>cat</th>\n",
       "    </tr>\n",
       "  </thead>\n",
       "  <tbody>\n",
       "    <tr>\n",
       "      <th>0</th>\n",
       "      <td>49653</td>\n",
       "      <td>Top</td>\n",
       "    </tr>\n",
       "    <tr>\n",
       "      <th>1</th>\n",
       "      <td>58513</td>\n",
       "      <td>Top</td>\n",
       "    </tr>\n",
       "    <tr>\n",
       "      <th>2</th>\n",
       "      <td>39716</td>\n",
       "      <td>Dress</td>\n",
       "    </tr>\n",
       "    <tr>\n",
       "      <th>3</th>\n",
       "      <td>28456</td>\n",
       "      <td>Skirt</td>\n",
       "    </tr>\n",
       "    <tr>\n",
       "      <th>4</th>\n",
       "      <td>31782</td>\n",
       "      <td>Top</td>\n",
       "    </tr>\n",
       "  </tbody>\n",
       "</table>\n",
       "</div>"
      ],
      "text/plain": [
       "      id    cat\n",
       "0  49653    Top\n",
       "1  58513    Top\n",
       "2  39716  Dress\n",
       "3  28456  Skirt\n",
       "4  31782    Top"
      ]
     },
     "execution_count": 7,
     "metadata": {},
     "output_type": "execute_result"
    }
   ],
   "source": [
    "#Keep only relevant data\n",
    "style_data = style_data[['id', 'cat']]\n",
    "style_data2 = style_data.dropna()\n",
    "style_data2 = style_data2.loc[style_data2['cat']!=0].reset_index(drop=True)\n",
    "style_data2.head()"
   ]
  },
  {
   "cell_type": "code",
   "execution_count": 11,
   "metadata": {},
   "outputs": [],
   "source": [
    "#Save to csv\n",
    "style_data2.to_csv('../final_project/style_data2.csv')"
   ]
  },
  {
   "cell_type": "markdown",
   "metadata": {},
   "source": [
    "**2,026** images are available in the categories 'top', 'skirt', and 'dress'."
   ]
  },
  {
   "cell_type": "code",
   "execution_count": 12,
   "metadata": {},
   "outputs": [
    {
     "data": {
      "text/plain": [
       "2026"
      ]
     },
     "execution_count": 12,
     "metadata": {},
     "output_type": "execute_result"
    }
   ],
   "source": [
    "#Find number of images\n",
    "style_data2.groupby('cat')['id'].count().sum()"
   ]
  },
  {
   "cell_type": "markdown",
   "metadata": {},
   "source": [
    "**Most** images are available in the category 'top', while only a **few** exist for 'dress' and 'skirt'."
   ]
  },
  {
   "cell_type": "code",
   "execution_count": 13,
   "metadata": {},
   "outputs": [
    {
     "data": {
      "text/plain": [
       "Top      1532\n",
       "Dress     390\n",
       "Skirt     104\n",
       "Name: cat, dtype: int64"
      ]
     },
     "execution_count": 13,
     "metadata": {},
     "output_type": "execute_result"
    }
   ],
   "source": [
    "#Check\n",
    "style_data2['cat'].value_counts()"
   ]
  }
 ],
 "metadata": {
  "hide_input": false,
  "kernelspec": {
   "display_name": "Python 3",
   "language": "python",
   "name": "python3"
  },
  "language_info": {
   "codemirror_mode": {
    "name": "ipython",
    "version": 3
   },
   "file_extension": ".py",
   "mimetype": "text/x-python",
   "name": "python",
   "nbconvert_exporter": "python",
   "pygments_lexer": "ipython3",
   "version": "3.8.3"
  }
 },
 "nbformat": 4,
 "nbformat_minor": 4
}
